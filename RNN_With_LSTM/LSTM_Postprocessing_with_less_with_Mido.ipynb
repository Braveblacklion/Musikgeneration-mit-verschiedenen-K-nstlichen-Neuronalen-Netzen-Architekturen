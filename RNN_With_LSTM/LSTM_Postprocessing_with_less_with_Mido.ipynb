{
 "cells": [
  {
   "cell_type": "code",
   "execution_count": 1,
   "metadata": {},
   "outputs": [
    {
     "name": "stderr",
     "output_type": "stream",
     "text": [
      "Using TensorFlow backend.\n"
     ]
    }
   ],
   "source": [
    "import pickle as pkl\n",
    "import time\n",
    "import os\n",
    "import numpy as np\n",
    "import sys\n",
    "from mido import MidiFile ,MetaMessage, Message, MidiTrack, second2tick\n",
    "from models.LSTM_SELFTRY_Minimized import create_network, sample_with_temp\n",
    "\n",
    "import matplotlib.pyplot as plt\n"
   ]
  },
  {
   "cell_type": "markdown",
   "metadata": {},
   "source": [
    "# parameters"
   ]
  },
  {
   "cell_type": "code",
   "execution_count": 2,
   "metadata": {},
   "outputs": [],
   "source": [
    "# run params\n",
    "section = 'compose'\n",
    "run_id = '1120'\n",
    "music_name = 'midis'\n",
    "run_folder = 'run/{}/'.format(section)\n",
    "run_folder += '_'.join([run_id, music_name])\n",
    "\n",
    "# model params\n",
    "embed_size = 100\n",
    "rnn_units = 256\n",
    "use_attention = True\n"
   ]
  },
  {
   "cell_type": "markdown",
   "metadata": {},
   "source": [
    "## load the lookup tables"
   ]
  },
  {
   "cell_type": "code",
   "execution_count": 3,
   "metadata": {},
   "outputs": [],
   "source": [
    "\n",
    "store_folder = os.path.join(run_folder, 'store')\n",
    "\n",
    "with open(os.path.join(store_folder, 'distincts'), 'rb') as filepath:\n",
    "    distincts = pkl.load(filepath)\n",
    "    command_names, n_commands, channel_names, n_channel, value1_names, n_value1, duration_names, n_durations = distincts\n",
    "\n",
    "with open(os.path.join(store_folder, 'lookups'), 'rb') as filepath:\n",
    "    lookups = pkl.load(filepath)\n",
    "    command_to_int, int_to_command, channel_to_int, int_to_channel, value1_to_int, int_to_value1, duration_to_int, int_to_duration = lookups"
   ]
  },
  {
   "cell_type": "markdown",
   "metadata": {},
   "source": [
    "## build the model"
   ]
  },
  {
   "cell_type": "code",
   "execution_count": 4,
   "metadata": {},
   "outputs": [
    {
     "name": "stdout",
     "output_type": "stream",
     "text": [
      "Model: \"model\"\n",
      "__________________________________________________________________________________________________\n",
      "Layer (type)                    Output Shape         Param #     Connected to                     \n",
      "==================================================================================================\n",
      "commands_in (InputLayer)        [(None, None)]       0                                            \n",
      "__________________________________________________________________________________________________\n",
      "channels_in (InputLayer)        [(None, None)]       0                                            \n",
      "__________________________________________________________________________________________________\n",
      "values1_in (InputLayer)         [(None, None)]       0                                            \n",
      "__________________________________________________________________________________________________\n",
      "durations_in (InputLayer)       [(None, None)]       0                                            \n",
      "__________________________________________________________________________________________________\n",
      "embedding (Embedding)           (None, None, 100)    300         commands_in[0][0]                \n",
      "__________________________________________________________________________________________________\n",
      "embedding_1 (Embedding)         (None, None, 100)    1700        channels_in[0][0]                \n",
      "__________________________________________________________________________________________________\n",
      "embedding_2 (Embedding)         (None, None, 100)    8400        values1_in[0][0]                 \n",
      "__________________________________________________________________________________________________\n",
      "embedding_3 (Embedding)         (None, None, 100)    2000        durations_in[0][0]               \n",
      "__________________________________________________________________________________________________\n",
      "concatenate (Concatenate)       (None, None, 400)    0           embedding[0][0]                  \n",
      "                                                                 embedding_1[0][0]                \n",
      "                                                                 embedding_2[0][0]                \n",
      "                                                                 embedding_3[0][0]                \n",
      "__________________________________________________________________________________________________\n",
      "lstm (LSTM)                     (None, None, 256)    672768      concatenate[0][0]                \n",
      "__________________________________________________________________________________________________\n",
      "lstm_1 (LSTM)                   (None, None, 256)    525312      lstm[0][0]                       \n",
      "__________________________________________________________________________________________________\n",
      "dense (Dense)                   (None, None, 1)      257         lstm_1[0][0]                     \n",
      "__________________________________________________________________________________________________\n",
      "reshape (Reshape)               (None, None)         0           dense[0][0]                      \n",
      "__________________________________________________________________________________________________\n",
      "activation (Activation)         (None, None)         0           reshape[0][0]                    \n",
      "__________________________________________________________________________________________________\n",
      "repeat_vector (RepeatVector)    (None, 256, None)    0           activation[0][0]                 \n",
      "__________________________________________________________________________________________________\n",
      "permute (Permute)               (None, None, 256)    0           repeat_vector[0][0]              \n",
      "__________________________________________________________________________________________________\n",
      "multiply (Multiply)             (None, None, 256)    0           lstm_1[0][0]                     \n",
      "                                                                 permute[0][0]                    \n",
      "__________________________________________________________________________________________________\n",
      "lambda (Lambda)                 (None, 256)          0           multiply[0][0]                   \n",
      "__________________________________________________________________________________________________\n",
      "commands_out (Dense)            (None, 3)            771         lambda[0][0]                     \n",
      "__________________________________________________________________________________________________\n",
      "channels_out (Dense)            (None, 17)           4369        lambda[0][0]                     \n",
      "__________________________________________________________________________________________________\n",
      "values1_out (Dense)             (None, 84)           21588       lambda[0][0]                     \n",
      "__________________________________________________________________________________________________\n",
      "durations_out (Dense)           (None, 20)           5140        lambda[0][0]                     \n",
      "==================================================================================================\n",
      "Total params: 1,242,605\n",
      "Trainable params: 1,242,605\n",
      "Non-trainable params: 0\n",
      "__________________________________________________________________________________________________\n"
     ]
    }
   ],
   "source": [
    "weights_folder = os.path.join(run_folder, 'weights')\n",
    "weights_file = 'weights_custom.h5'\n",
    "#weights_file = 'weights-improvement-138-5.0825-bigger_custom.h5'\n",
    "\n",
    "model, att_model = create_network(n_commands, n_channel, n_value1, n_durations, embed_size, rnn_units, use_attention)\n",
    "\n",
    "# Load the weights to each node\n",
    "weight_source = os.path.join(weights_folder,weights_file)\n",
    "model.load_weights(weight_source)\n",
    "model.summary()"
   ]
  },
  {
   "cell_type": "markdown",
   "metadata": {},
   "source": [
    "## build your own phrase"
   ]
  },
  {
   "cell_type": "code",
   "execution_count": 5,
   "metadata": {},
   "outputs": [],
   "source": [
    "# prediction params\n",
    "commands_temp = 0.5\n",
    "channel_temp = 0.5\n",
    "values1_temp = 0.5\n",
    "duration_temp = 0.5\n",
    "\n",
    "max_extra_commands = 150\n",
    "max_seq_len = 128\n",
    "sequence_length = 64\n",
    "\n",
    "commands = ['START']\n",
    "channels = [-1]\n",
    "values1 = [-1]\n",
    "durations = [0]\n"
   ]
  },
  {
   "cell_type": "markdown",
   "metadata": {},
   "source": [
    "## Generate notes from the neural network based on a sequence of notes"
   ]
  },
  {
   "cell_type": "code",
   "execution_count": 6,
   "metadata": {},
   "outputs": [],
   "source": [
    "def generateMidoMessage(command, channel, value1, duration):\n",
    "    value1 = int(value1)    \n",
    "    duration = int(duration)\n",
    "    pChannel = int(channel)\n",
    "    \n",
    "    if command == 'note_on' or command == 'note_off':\n",
    "        # Use default velocity\n",
    "        return Message(command, channel=pChannel, note=value1, velocity=128, time=duration)\n",
    "    elif command == 'program_change':\n",
    "        return Message(command, channel=pChannel, program=value1, time=duration)"
   ]
  },
  {
   "cell_type": "code",
   "execution_count": null,
   "metadata": {},
   "outputs": [],
   "source": [
    "from keras.backend.tensorflow_backend import set_session\n",
    "import tensorflow as tf\n",
    "\n",
    "prediction_output = []\n",
    "\n",
    "default_tempo = 500000\n",
    "default_ticks_per_second = 480\n",
    "\n",
    "commands_input_sequence = []\n",
    "channel_input_sequence = []\n",
    "value1_input_sequence = []\n",
    "durations_input_sequence = []\n",
    "\n",
    "for co, ch, v1, d in zip(commands, channels, values1, durations):\n",
    "    command_int = command_to_int[co]\n",
    "    channel_int = channel_to_int[ch]\n",
    "    value1_int = value1_to_int[str(v1)]\n",
    "    duration_int = duration_to_int[d]\n",
    "    \n",
    "    commands_input_sequence.append(command_int)\n",
    "    channel_input_sequence.append(channel_int)\n",
    "    value1_input_sequence.append(value1_int)\n",
    "    durations_input_sequence.append(duration_int)\n",
    "    \n",
    "    prediction_output.append([co, ch, v1, d])\n",
    "    \n",
    "    if co == 'START':\n",
    "        createdMidi = MidiFile()\n",
    "        track = MidiTrack()\n",
    "        createdMidi.tracks.append(track)\n",
    "        # Set ticks_per_second of Midi to default\n",
    "        createdMidi.ticks_per_second = default_ticks_per_second\n",
    "        # Set Tempo of Midi to default\n",
    "        track.append(MetaMessage('set_tempo', tempo=default_tempo, time=0))\n",
    "    elif co == 'programm_change':\n",
    "        track.append(Message(co, channel=ch, program=v1, time=0))\n",
    "    elif co == 'note_on' or co == 'note_off':\n",
    "        pTime = int(second2tick(d, ticks_per_beat=default_ticks_per_second, tempo=default_tempo))\n",
    "        track.append(Message(co, channel=ch, note=v1, time=pTime))\n",
    "    else:\n",
    "        print('Error in else!')\n",
    "\n",
    "\n",
    "att_matrix = np.zeros(shape = (max_extra_commands+sequence_length, max_extra_commands))\n",
    "\n",
    "for command_index in range(max_extra_commands):\n",
    "\n",
    "    print(command_index)\n",
    "    prediction_input = [\n",
    "        np.asarray([commands_input_sequence])\n",
    "        , np.asarray([channel_input_sequence])\n",
    "        , np.asarray([value1_input_sequence])\n",
    "        , np.asarray([durations_input_sequence])\n",
    "       ]\n",
    "    command_prediction, channel_prediction, value1_prediction, durations_prediction = model.predict(prediction_input, verbose=0)\n",
    "    if use_attention:\n",
    "        att_prediction = att_model.predict(prediction_input, verbose=0)[0]\n",
    "        att_matrix[(command_index-len(att_prediction)+sequence_length):(command_index+sequence_length), command_index] = att_prediction\n",
    "            \n",
    "    i1 = sample_with_temp(command_prediction[0], commands_temp)\n",
    "    i2 = sample_with_temp(channel_prediction[0], channel_temp)\n",
    "    i3 = sample_with_temp(value1_prediction[0], values1_temp)\n",
    "    i4 = sample_with_temp(durations_prediction[0], duration_temp)    \n",
    "\n",
    "    command_result = int_to_command[i1]\n",
    "    channel_result = int_to_channel[i2]\n",
    "    value1_result = int_to_value1[i3]\n",
    "    duration_result = int_to_duration[i4]\n",
    "    \n",
    "    print(command_result, channel_result, value1_result, duration_result)\n",
    "    \n",
    "    prediction_output.append([command_result, channel_result, value1_result, duration_result])\n",
    "\n",
    "    commands_input_sequence.append(i1)\n",
    "    channel_input_sequence.append(i2)\n",
    "    value1_input_sequence.append(i3)\n",
    "    durations_input_sequence.append(i4)\n",
    "    \n",
    "    if len(commands_input_sequence) > max_seq_len:\n",
    "        commands_input_sequence = commands_input_sequence[1:]\n",
    "        channel_input_sequence = channel_input_sequence[1:]\n",
    "        value1_input_sequence = value1_input_sequence[1:]\n",
    "        durations_input_sequence = durations_input_sequence[1:]\n",
    "        \n",
    "    if command_result == 'START':\n",
    "        break\n",
    "        \n",
    "print('Generated sequence of {} notes'.format(len(prediction_output)))"
   ]
  },
  {
   "cell_type": "code",
   "execution_count": 11,
   "metadata": {},
   "outputs": [],
   "source": [
    "# Temporarily diasble #### Remove\n",
    "#fig, ax = plt.subplots(figsize=(15,15))\n",
    "#ax.set_yticks([int(j) for j in range(35,70)])\n",
    "\n",
    "#plt.imshow(overall_preds[35:70,:], origin=\"lower\", cmap='coolwarm', vmin = -0.5, vmax = 0.5, extent=[0, max_extra_notes, 35,70])\n",
    "#################################"
   ]
  },
  {
   "cell_type": "markdown",
   "metadata": {},
   "source": [
    "## convert the output from the prediction to notes and create a midi file from the notes "
   ]
  },
  {
   "cell_type": "code",
   "execution_count": 9,
   "metadata": {},
   "outputs": [
    {
     "name": "stdout",
     "output_type": "stream",
     "text": [
      "[['START', -1, -1, 0], ['note_off', 14, '30', 0.1], ['note_on', 10, '63', 0], ['note_on', 6, '47', 0], ['START', 7, '66', 0.3]]\n",
      "START\n",
      "note_off\n",
      "note_on\n",
      "note_on\n",
      "START\n"
     ]
    }
   ],
   "source": [
    "output_folder = os.path.join(run_folder, 'output')\n",
    "\n",
    "# create note and chord objects based on the values generated by the model\n",
    "print(prediction_output)\n",
    "for pattern in prediction_output:\n",
    "    command_pattern, channel_pattern, value1_pattern, duration_pattern = pattern\n",
    "    pTime = int(second2tick(duration_pattern, ticks_per_beat=default_ticks_per_second, tempo=default_tempo))\n",
    "    # pattern is a chord\n",
    "    if command_pattern == 'START':\n",
    "        print('START')\n",
    "        continue\n",
    "    elif command_pattern == 'program_change':\n",
    "        print('program_change')\n",
    "        track.append(Message(command_pattern, channel=channel_pattern, program=int(value1_pattern), time=pTime))\n",
    "        continue\n",
    "    elif command_pattern == 'note_on' or command_pattern == 'note_off':\n",
    "        print(command_pattern)\n",
    "        track.append(Message(command_pattern, channel=channel_pattern, note=int(value1_pattern), time=pTime))\n",
    "        continue\n",
    "\n",
    "timestr = time.strftime(\"%Y%m%d-%H%M%S\")\n",
    "createdMidi.save(os.path.join(output_folder, 'output-minloss-' + timestr + '.mid'))"
   ]
  }
 ],
 "metadata": {
  "kernelspec": {
   "display_name": "Python 3",
   "language": "python",
   "name": "python3"
  },
  "language_info": {
   "codemirror_mode": {
    "name": "ipython",
    "version": 3
   },
   "file_extension": ".py",
   "mimetype": "text/x-python",
   "name": "python",
   "nbconvert_exporter": "python",
   "pygments_lexer": "ipython3",
   "version": "3.7.6"
  }
 },
 "nbformat": 4,
 "nbformat_minor": 2
}

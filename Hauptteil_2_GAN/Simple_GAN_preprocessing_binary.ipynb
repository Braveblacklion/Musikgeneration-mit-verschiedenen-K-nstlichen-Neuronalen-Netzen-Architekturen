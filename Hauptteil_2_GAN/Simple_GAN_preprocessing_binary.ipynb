{
 "cells": [
  {
   "cell_type": "code",
   "execution_count": null,
   "metadata": {},
   "outputs": [],
   "source": [
    "import os\n",
    "import pickle\n",
    "import numpy\n",
    "import glob\n",
    "import time\n",
    "\n",
    "import tensorflow as tf\n",
    "from tensorflow.keras.callbacks import ModelCheckpoint, EarlyStopping\n",
    "from tensorflow.keras.utils import plot_model\n",
    "from tensorflow.keras.optimizers import RMSprop\n",
    "from tensorflow.keras.layers import Input, Conv2D, Flatten, Dense, Conv2DTranspose, Reshape, Lambda, Activation, BatchNormalization, LeakyReLU, Dropout, ZeroPadding2D, UpSampling2D\n",
    "from tensorflow.keras.models import Model, Sequential\n",
    "from tensorflow.keras import backend as K\n",
    "\n",
    "import math\n",
    "import matplotlib.pyplot as plt\n",
    "\n",
    "import pypianoroll\n",
    "import numpy as np\n",
    "from pypianoroll import Multitrack, Track"
   ]
  },
  {
   "cell_type": "code",
   "execution_count": null,
   "metadata": {},
   "outputs": [],
   "source": [
    "music_name = 'midis/'\n",
    "\n",
    "# Number of timestept the slices Pianorolls should have (Needs to be dividable by 16)\n",
    "pianrollLength = 128\n",
    "\n",
    "data_folder = os.path.join('data', music_name)\n",
    "\n",
    "# Number of different Notes between highest and lowest Note\n",
    "minNumDifferentNotes = 5\n",
    "# Set Note bounds for faster training\n",
    "lowestNotePossible = 20\n",
    "highestNotePossible = 108\n",
    "# possibleNotes mus be dividable by 4 else the Architekture needs to be changed\n",
    "possibleNotes = highestNotePossible - lowestNotePossible"
   ]
  },
  {
   "cell_type": "code",
   "execution_count": null,
   "metadata": {},
   "outputs": [],
   "source": [
    "# Returns a list of all the midi Files in the given data_folder and its subfolders\n",
    "def get_Music_List(directory):\n",
    "    global music_list\n",
    "    music_list = []\n",
    "    for root, dirs, files in os.walk(directory):\n",
    "        for file in files:\n",
    "            if file.endswith(\".mid\"):\n",
    "                music_list.append(os.path.join(root, file))\n",
    "                #print(os.path.join(root, file))               \n",
    "                #(Quelle: https://stackoverflow.com/questions/3964681/find-all-files-in-a-directory-with-extension-txt-in-python)\n",
    "    return music_list"
   ]
  },
  {
   "cell_type": "code",
   "execution_count": null,
   "metadata": {},
   "outputs": [],
   "source": [
    "music_list = get_Music_List(data_folder)\n",
    "#print(music_list)\n",
    "#pypianoroll = Multitrack(music_list[0])"
   ]
  },
  {
   "cell_type": "code",
   "execution_count": null,
   "metadata": {},
   "outputs": [],
   "source": [
    "isOnlyMonoTrackMode = True\n",
    "pianoRolls = []\n",
    "    \n",
    "music_list = get_Music_List(data_folder)\n",
    "print(len(music_list), 'files in total')\n",
    "\n",
    "for i, file in enumerate(music_list):\n",
    "    #print(i+1, \"Parsing %s\" % file)\n",
    "    pypianoroll = Multitrack(file)\n",
    "    ## Filter out multitrack Songs\n",
    "    if len(pypianoroll.tracks) > 1:\n",
    "        continue\n",
    "    #pypianoroll.binarize()\n",
    "    #print(\"Parsed succesfully\")\n",
    "    pianoRolls.append(pypianoroll)\n",
    "print(len(pianoRolls))"
   ]
  },
  {
   "cell_type": "code",
   "execution_count": null,
   "metadata": {},
   "outputs": [],
   "source": [
    "pianoRolls[13].tracks[0].plot()"
   ]
  },
  {
   "cell_type": "code",
   "execution_count": null,
   "metadata": {},
   "outputs": [],
   "source": [
    "tmpPianoRolls = []\n",
    "tmpSplitted = [] #numpy.empty((512,128,1))\n",
    "\n",
    "pianoTracks = []\n",
    "for pianoroll in pianoRolls:\n",
    "    for track in pianoroll.tracks:\n",
    "        # Filter to get only Piano Tracks\n",
    "        if track.program <= 7:\n",
    "            # Skip the track if only one note is played\n",
    "            lowest, highest = track.get_active_pitch_range()\n",
    "            # Remove all Tracks that don't fullfill Minimum different Notes Numbers\n",
    "            if (highest - lowest < (minNumDifferentNotes - 1)):\n",
    "                #print('Skipped only ' + str(minNumDifferentNotes - 1) + ' note(s)')\n",
    "                continue\n",
    "            if lowest < lowestNotePossible or highest > highestNotePossible:\n",
    "                continue\n",
    "            # pianoroll: np.ndarray, shape=(num_time_step, 128)\n",
    "            #pianoTracks.append(track)\n",
    "            \n",
    "            npPianoroll = np.asarray(track.pianoroll)\n",
    "            all_zeroes = not npPianoroll.any()\n",
    "            if (all_zeroes):\n",
    "                #print('Completely empty Pianoroll!')\n",
    "                continue\n",
    "            print('\\n' + str(npPianoroll.shape))\n",
    "            count = int(math.ceil(len(npPianoroll)/pianrollLength))\n",
    "            for i in range(count):\n",
    "                # Get the parts of the Pianoroll\n",
    "                array1 = npPianoroll[i*pianrollLength:(i+1)*pianrollLength , lowestNotePossible:highestNotePossible]\n",
    "                # Test if splitted Array is empty. If it is empty then it is skipped\n",
    "                all_zeroes = not array1.any()\n",
    "                if (all_zeroes):\n",
    "                    #print('Empty Pianoroll!')\n",
    "                    continue\n",
    "                # If it is the last pianoroll Part then test if it its length is smaller then \n",
    "                # 80% of pianorollLength then it is skipped else pad it with zeroes\n",
    "                if (i == (count -1)):\n",
    "                    if(len(array1) > (pianrollLength * 0.8)):\n",
    "                        \n",
    "                        # Pad the array with zeroes to the needed shape\n",
    "                        result = np.zeros((pianrollLength, possibleNotes))\n",
    "                        result[:array1.shape[0],:array1.shape[1]] = array1\n",
    "                        result.reshape(pianrollLength , possibleNotes, 1)\n",
    "                        ###\n",
    "                        result.clip(lowestNotePossible,highestNotePossible)\n",
    "                        ###\n",
    "                        tmpSplitted.append(result)\n",
    "                else:\n",
    "                    array1.reshape(pianrollLength , possibleNotes, 1)\n",
    "                    array1.clip(lowestNotePossible,highestNotePossible)\n",
    "                    tmpSplitted.append(array1)\n",
    "            #print('Low: ' + str(lowest) + ' High: ' + str(highest))\n",
    "        else:\n",
    "            # Track is not a Piano Track\n",
    "            #print('Skipped entirely')\n",
    "            continue\n",
    "# Quelle: https://stackoverflow.com/a/56888143/9179624 (Getting parts of Array)\n",
    "# Quelle: https://stackoverflow.com/a/23567941/9179624 (Test if array is empty)\n",
    "# Quelle: https://stackoverflow.com/a/35751427/9179624 (Padding of Arrays)"
   ]
  },
  {
   "cell_type": "code",
   "execution_count": null,
   "metadata": {},
   "outputs": [],
   "source": [
    "np.asarray(tmpSplitted).shape"
   ]
  },
  {
   "cell_type": "code",
   "execution_count": null,
   "metadata": {},
   "outputs": [],
   "source": [
    "# Instead of values from 0 to 1 there are now only values of 0 or 1 in the training set\n",
    "newPianorolls = []\n",
    "for data in tmpSplitted:\n",
    "    repianoroll = data.reshape(pianrollLength,88)\n",
    "    #print(repianoroll)\n",
    "    result = (repianoroll > 10)*1\n",
    "    #print(result)\n",
    "    newPianorolls.append(result.reshape(pianrollLength,88,1))\n",
    "print(np.asarray(newPianorolls).shape)"
   ]
  },
  {
   "cell_type": "code",
   "execution_count": null,
   "metadata": {},
   "outputs": [],
   "source": [
    "reshaped = np.asarray(newPianorolls)"
   ]
  },
  {
   "cell_type": "code",
   "execution_count": null,
   "metadata": {},
   "outputs": [],
   "source": [
    "#import sys\n",
    "#with open('out.txt', 'w') as f:\n",
    "#    numpy.set_printoptions(threshold=sys.maxsize)\n",
    "#    print(tmpSplitted[186], file=f)  "
   ]
  },
  {
   "cell_type": "code",
   "execution_count": null,
   "metadata": {},
   "outputs": [],
   "source": [
    "# Clear list for more ram Space\n",
    "tmpSplitted = []\n",
    "splittedPianorolls = []\n",
    "newPianorolls = []\n",
    "# Save the numpyArray for further use\n",
    "np.save(os.path.join('data/preprocessed/midi_binarized_p'+str(pianrollLength)+'_dn88.npy'),reshaped)"
   ]
  },
  {
   "cell_type": "code",
   "execution_count": null,
   "metadata": {},
   "outputs": [],
   "source": []
  }
 ],
 "metadata": {
  "kernelspec": {
   "display_name": "Python 3",
   "language": "python",
   "name": "python3"
  },
  "language_info": {
   "codemirror_mode": {
    "name": "ipython",
    "version": 3
   },
   "file_extension": ".py",
   "mimetype": "text/x-python",
   "name": "python",
   "nbconvert_exporter": "python",
   "pygments_lexer": "ipython3",
   "version": "3.7.6"
  }
 },
 "nbformat": 4,
 "nbformat_minor": 4
}

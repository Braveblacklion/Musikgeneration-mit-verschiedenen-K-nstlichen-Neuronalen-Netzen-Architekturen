{
 "cells": [
  {
   "cell_type": "code",
   "execution_count": 8,
   "metadata": {},
   "outputs": [],
   "source": [
    "import os\n",
    "import tensorflow as tf\n",
    "from tensorflow.keras.callbacks import ModelCheckpoint, EarlyStopping\n",
    "from tensorflow.keras.utils import plot_model\n",
    "from tensorflow.keras.optimizers import RMSprop\n",
    "from tensorflow.keras.layers import Input, Conv2D, Flatten, Dense, Conv2DTranspose, Reshape, Lambda, Activation, BatchNormalization, LeakyReLU, Dropout, ZeroPadding2D, UpSampling2D\n",
    "from tensorflow.keras.models import Model, Sequential, load_model\n",
    "from tensorflow.keras import backend as K\n",
    "from tensorflow.keras.initializers import RandomNormal\n",
    "\n",
    "import math\n",
    "import matplotlib.pyplot as plt\n",
    "\n",
    "import pypianoroll\n",
    "import numpy as np\n",
    "from pypianoroll import Multitrack, Track"
   ]
  },
  {
   "cell_type": "code",
   "execution_count": 9,
   "metadata": {},
   "outputs": [],
   "source": [
    "# run params\n",
    "run_id = '3001'\n",
    "music_name = 'gan/'\n",
    "\n",
    "RUN_FOLDER = 'run/'\n",
    "RUN_FOLDER += '_'.join([run_id, music_name])\n",
    "\n",
    "# Number of timestept the slices Pianorolls should have (Needs to be dividable by 16)\n",
    "pianrollLength = 128\n",
    "\n",
    "store_folder = os.path.join(RUN_FOLDER, 'store')\n",
    "data_folder = os.path.join('../data', music_name)\n",
    "\n",
    "if not os.path.exists(RUN_FOLDER):\n",
    "    os.makedirs(RUN_FOLDER)\n",
    "    os.mkdir(os.path.join(RUN_FOLDER, 'store'))\n",
    "    os.mkdir(os.path.join(RUN_FOLDER, 'output'))\n",
    "    os.mkdir(os.path.join(RUN_FOLDER, 'weights'))\n",
    "    os.mkdir(os.path.join(RUN_FOLDER, 'viz'))\n",
    "\n",
    "mode = 'build' # 'load' # \n",
    "\n",
    "#weight_init = RandomNormal(mean=0., stddev=0.02)\n",
    "weight_init = tf.keras.initializers.GlorotUniform(seed=None)\n",
    "#weight_init = tf.keras.initializers.he_uniform(seed=None)"
   ]
  },
  {
   "cell_type": "code",
   "execution_count": 10,
   "metadata": {},
   "outputs": [],
   "source": [
    "# Set Note bounds for faster training\n",
    "lowestNotePossible = 20\n",
    "highestNotePossible = 108\n",
    "# possibleNotes mus be dividable by 4 else the Architekture needs to be changed\n",
    "possibleNotes = highestNotePossible - lowestNotePossible"
   ]
  },
  {
   "cell_type": "code",
   "execution_count": 4,
   "metadata": {},
   "outputs": [
    {
     "data": {
      "text/plain": [
       "\"\\nreshaped = np.load(os.path.join(RUN_FOLDER, 'store/reshaped_midi_binarized_p128_dn88.npy'))\\nisNormalized = True\\n\""
      ]
     },
     "execution_count": 4,
     "metadata": {},
     "output_type": "execute_result"
    }
   ],
   "source": [
    "# Save the numpyArray for further us\n",
    "'''\n",
    "reshaped = np.load('data/preprocessed/midi_p128_dn88.npy')\n",
    "isNormalized = False\n",
    "\n",
    "reshaped = np.load('data/preprocessed/midi_normalized_p128_dn88.npy')\n",
    "isNormalized = True\n",
    "'''\n",
    "\n",
    "reshaped = np.load('data/preprocessed/midi_binarized_p128_dn88.npy')\n",
    "isNormalized = True"
   ]
  },
  {
   "cell_type": "markdown",
   "metadata": {},
   "source": [
    "# Creating the neural Network"
   ]
  },
  {
   "cell_type": "code",
   "execution_count": 5,
   "metadata": {},
   "outputs": [],
   "source": [
    "### THE discriminator\n",
    "discriminator_input = Input(shape=(pianrollLength,possibleNotes,1), name='discriminator_input')\n",
    "\n",
    "x = discriminator_input\n",
    "\n",
    "\n",
    "x = Conv2D(filters = 64, kernel_size = (5,5), strides=2, padding = 'same', kernel_initializer = weight_init, name = 'discriminator_conv_0')(x)\n",
    "x = LeakyReLU()(x)\n",
    "#x = Activation('relu')(x)\n",
    "x = Dropout(0.1)(x)\n",
    "\n",
    "x = Conv2D(filters = 64, kernel_size = (5,5), strides=2, padding = 'same', kernel_initializer = weight_init, name = 'discriminator_conv_1')(x)\n",
    "x = LeakyReLU()(x)\n",
    "#x = Activation('relu')(x)\n",
    "x = Dropout(0.1)(x)\n",
    "\n",
    "x = Conv2D(filters = 128, kernel_size = (1,5), strides=2, padding = 'same', kernel_initializer = weight_init, name = 'discriminator_conv_2')(x)\n",
    "x = LeakyReLU()(x)\n",
    "#x = Activation('relu')(x)\n",
    "x = Dropout(0.1)(x)\n",
    "\n",
    "x = Conv2D(filters = 128, kernel_size = (5,5), strides=1, padding = 'same', kernel_initializer = weight_init, name = 'discriminator_conv_3')(x)\n",
    "x = LeakyReLU()(x)\n",
    "#x = Activation('relu')(x)\n",
    "x = Dropout(0.1)(x)\n",
    "\n",
    "\n",
    "x = Flatten()(x)\n",
    "\n",
    "discriminator_output = Dense(1, activation='sigmoid', kernel_initializer = weight_init)(x)\n",
    "discriminator = Model(discriminator_input, discriminator_output, name= 'discriminator')"
   ]
  },
  {
   "cell_type": "code",
   "execution_count": 6,
   "metadata": {},
   "outputs": [
    {
     "name": "stdout",
     "output_type": "stream",
     "text": [
      "Model: \"discriminator\"\n",
      "_________________________________________________________________\n",
      "Layer (type)                 Output Shape              Param #   \n",
      "=================================================================\n",
      "discriminator_input (InputLa [(None, 128, 88, 1)]      0         \n",
      "_________________________________________________________________\n",
      "discriminator_conv_0 (Conv2D (None, 64, 44, 64)        1664      \n",
      "_________________________________________________________________\n",
      "leaky_re_lu (LeakyReLU)      (None, 64, 44, 64)        0         \n",
      "_________________________________________________________________\n",
      "dropout (Dropout)            (None, 64, 44, 64)        0         \n",
      "_________________________________________________________________\n",
      "discriminator_conv_1 (Conv2D (None, 32, 22, 64)        102464    \n",
      "_________________________________________________________________\n",
      "leaky_re_lu_1 (LeakyReLU)    (None, 32, 22, 64)        0         \n",
      "_________________________________________________________________\n",
      "dropout_1 (Dropout)          (None, 32, 22, 64)        0         \n",
      "_________________________________________________________________\n",
      "discriminator_conv_2 (Conv2D (None, 16, 11, 128)       41088     \n",
      "_________________________________________________________________\n",
      "leaky_re_lu_2 (LeakyReLU)    (None, 16, 11, 128)       0         \n",
      "_________________________________________________________________\n",
      "dropout_2 (Dropout)          (None, 16, 11, 128)       0         \n",
      "_________________________________________________________________\n",
      "discriminator_conv_3 (Conv2D (None, 16, 11, 128)       409728    \n",
      "_________________________________________________________________\n",
      "leaky_re_lu_3 (LeakyReLU)    (None, 16, 11, 128)       0         \n",
      "_________________________________________________________________\n",
      "dropout_3 (Dropout)          (None, 16, 11, 128)       0         \n",
      "_________________________________________________________________\n",
      "flatten (Flatten)            (None, 22528)             0         \n",
      "_________________________________________________________________\n",
      "dense (Dense)                (None, 1)                 22529     \n",
      "=================================================================\n",
      "Total params: 577,473\n",
      "Trainable params: 577,473\n",
      "Non-trainable params: 0\n",
      "_________________________________________________________________\n"
     ]
    }
   ],
   "source": [
    "discriminator.summary()"
   ]
  },
  {
   "cell_type": "code",
   "execution_count": 7,
   "metadata": {},
   "outputs": [],
   "source": [
    "# Quelle: https://stackoverflow.com/a/45199301\n",
    "# Save the summary to a file \n",
    "#from contextlib import redirect_stdout\n",
    "\n",
    "#with open(os.path.join(store_folder, 'modelsummarydiscriminator.txt'), 'w') as f:\n",
    "#    with redirect_stdout(f):\n",
    "#        discriminator.summary()"
   ]
  },
  {
   "cell_type": "code",
   "execution_count": 11,
   "metadata": {},
   "outputs": [],
   "source": [
    "z_dim = 100\n",
    "\n",
    "generator_input = Input(shape=(z_dim,), name='generator_input')\n",
    "generator_initial_dense_layer_size = (int(pianrollLength/4),int(possibleNotes/4),8)\n",
    "\n",
    "x = generator_input\n",
    "x = Dense(np.prod(generator_initial_dense_layer_size), kernel_initializer = weight_init)(x)\n",
    "x = BatchNormalization(momentum=0.9)(x)\n",
    "\n",
    "#x = LeakyReLU()(x)\n",
    "x = Activation('relu')(x)\n",
    "x = Dropout(0.1)(x)\n",
    "x = Reshape(generator_initial_dense_layer_size)(x)\n",
    "\n",
    "x = UpSampling2D(size=(2, 2), data_format=None, interpolation='nearest')(x)\n",
    "x = Conv2D(filters = 128, kernel_size = (5,5), padding='same', kernel_initializer = weight_init, name = 'generator_conv_0')(x)\n",
    "x = BatchNormalization(momentum=0.9)(x)\n",
    "#x = LeakyReLU()(x)\n",
    "x = Activation('relu')(x)\n",
    "x = Dropout(0.1)(x)\n",
    "\n",
    "x = UpSampling2D(size=(2, 2), data_format=None, interpolation='nearest')(x)\n",
    "x = Conv2D(filters = 64, kernel_size = (5,5), padding='same', kernel_initializer = weight_init, name = 'generator_conv_1')(x)\n",
    "x = BatchNormalization(momentum=0.9)(x)\n",
    "#x = LeakyReLU()(x)\n",
    "x = Activation('relu')(x)\n",
    "x = Dropout(0.1)(x)\n",
    "\n",
    "x = Conv2D(filters = 64, kernel_size = (5,5), padding = 'same', kernel_initializer = weight_init, name = 'generator_conv_2')(x)\n",
    "x = BatchNormalization(momentum=0.9)(x)\n",
    "#x = LeakyReLU()(x)\n",
    "x = Activation('relu')(x)\n",
    "x = Dropout(0.1)(x)\n",
    "\n",
    "x = Conv2D(filters = 1, kernel_size = (5,5), padding = 'same', kernel_initializer = weight_init)(x)        \n",
    "x = Activation('sigmoid')(x)\n",
    "\n",
    "\n",
    "generator_output = x\n",
    "generator = Model(generator_input, generator_output, name='generator')"
   ]
  },
  {
   "cell_type": "code",
   "execution_count": 12,
   "metadata": {},
   "outputs": [
    {
     "name": "stdout",
     "output_type": "stream",
     "text": [
      "Model: \"generator\"\n",
      "_________________________________________________________________\n",
      "Layer (type)                 Output Shape              Param #   \n",
      "=================================================================\n",
      "generator_input (InputLayer) [(None, 100)]             0         \n",
      "_________________________________________________________________\n",
      "dense (Dense)                (None, 5632)              568832    \n",
      "_________________________________________________________________\n",
      "batch_normalization (BatchNo (None, 5632)              22528     \n",
      "_________________________________________________________________\n",
      "activation (Activation)      (None, 5632)              0         \n",
      "_________________________________________________________________\n",
      "dropout (Dropout)            (None, 5632)              0         \n",
      "_________________________________________________________________\n",
      "reshape (Reshape)            (None, 32, 22, 8)         0         \n",
      "_________________________________________________________________\n",
      "up_sampling2d (UpSampling2D) (None, 64, 44, 8)         0         \n",
      "_________________________________________________________________\n",
      "generator_conv_0 (Conv2D)    (None, 64, 44, 128)       25728     \n",
      "_________________________________________________________________\n",
      "batch_normalization_1 (Batch (None, 64, 44, 128)       512       \n",
      "_________________________________________________________________\n",
      "activation_1 (Activation)    (None, 64, 44, 128)       0         \n",
      "_________________________________________________________________\n",
      "dropout_1 (Dropout)          (None, 64, 44, 128)       0         \n",
      "_________________________________________________________________\n",
      "up_sampling2d_1 (UpSampling2 (None, 128, 88, 128)      0         \n",
      "_________________________________________________________________\n",
      "generator_conv_1 (Conv2D)    (None, 128, 88, 64)       204864    \n",
      "_________________________________________________________________\n",
      "batch_normalization_2 (Batch (None, 128, 88, 64)       256       \n",
      "_________________________________________________________________\n",
      "activation_2 (Activation)    (None, 128, 88, 64)       0         \n",
      "_________________________________________________________________\n",
      "dropout_2 (Dropout)          (None, 128, 88, 64)       0         \n",
      "_________________________________________________________________\n",
      "generator_conv_2 (Conv2D)    (None, 128, 88, 64)       102464    \n",
      "_________________________________________________________________\n",
      "batch_normalization_3 (Batch (None, 128, 88, 64)       256       \n",
      "_________________________________________________________________\n",
      "activation_3 (Activation)    (None, 128, 88, 64)       0         \n",
      "_________________________________________________________________\n",
      "dropout_3 (Dropout)          (None, 128, 88, 64)       0         \n",
      "_________________________________________________________________\n",
      "conv2d (Conv2D)              (None, 128, 88, 1)        1601      \n",
      "_________________________________________________________________\n",
      "activation_4 (Activation)    (None, 128, 88, 1)        0         \n",
      "=================================================================\n",
      "Total params: 927,041\n",
      "Trainable params: 915,265\n",
      "Non-trainable params: 11,776\n",
      "_________________________________________________________________\n"
     ]
    }
   ],
   "source": [
    "generator.summary()"
   ]
  },
  {
   "cell_type": "code",
   "execution_count": 14,
   "metadata": {},
   "outputs": [],
   "source": [
    "# Quelle: https://stackoverflow.com/a/45199301\n",
    "# Save the summary to a file \n",
    "#from contextlib import redirect_stdout\n",
    "\n",
    "#with open(os.path.join(store_folder, 'modelsummarygenerator.txt'), 'w') as f:\n",
    "    #with redirect_stdout(f):\n",
    "        #generator.summary()"
   ]
  },
  {
   "cell_type": "code",
   "execution_count": 11,
   "metadata": {},
   "outputs": [],
   "source": [
    "def set_trainable(model, isTrainable):\n",
    "    for layer in model.layers:\n",
    "        layer.trainable = isTrainable"
   ]
  },
  {
   "cell_type": "code",
   "execution_count": 12,
   "metadata": {},
   "outputs": [],
   "source": [
    "### COMPILE DISCRIMINATOR\n",
    "discriminator.compile(\n",
    "optimizer=RMSprop(lr=0.0008)\n",
    ", loss = 'binary_crossentropy'\n",
    ",  metrics = ['accuracy']\n",
    ")\n",
    "        \n",
    "### COMPILE THE FULL GAN\n",
    "set_trainable(discriminator, False)\n",
    "\n",
    "model_input = Input(shape=(z_dim,), name='model_input')\n",
    "model_output = discriminator(generator(model_input))\n",
    "GANModel = Model(model_input, model_output)\n",
    "\n",
    "opti = RMSprop(learning_rate=0.0004)\n",
    "GANModel.compile(optimizer=opti , loss='binary_crossentropy', metrics=['accuracy'])\n",
    "\n",
    "set_trainable(discriminator, True)\n"
   ]
  },
  {
   "cell_type": "code",
   "execution_count": 13,
   "metadata": {},
   "outputs": [],
   "source": [
    "#plot_model(model, to_file=os.path.join(RUN_FOLDER ,'viz/model.png'), show_shapes = True, show_layer_names = True)\n",
    "#plot_model(discriminator, to_file=os.path.join(RUN_FOLDER ,'viz/discriminator.png'), show_shapes = True, show_layer_names = True)\n",
    "#plot_model(generator, to_file=os.path.join(RUN_FOLDER ,'viz/generator.png'), show_shapes = True, show_layer_names = True)"
   ]
  },
  {
   "cell_type": "markdown",
   "metadata": {},
   "source": [
    "# Training of the GAN"
   ]
  },
  {
   "cell_type": "code",
   "execution_count": 14,
   "metadata": {},
   "outputs": [],
   "source": [
    "def generate_Midi_File(img, epoch, isNormalized):\n",
    "    gen_img = img.reshape(128, 88)\n",
    "    result = np.zeros((pianrollLength, 128))\n",
    "    result[:,lowestNotePossible:highestNotePossible] = gen_img\n",
    "    #if isNormalized:\n",
    "    #result = (result > 0.1) * 255.\n",
    "    result = result * 255.\n",
    "    \n",
    "    track = Track(pianoroll=result, program=0, is_drum=False,name='my awesome piano')\n",
    "\n",
    "    multi = Multitrack()\n",
    "    multi.tracks[0] = track\n",
    "    pypianoroll.write(multi, os.path.join(RUN_FOLDER, \"images/\"+str(epoch)+\".mid\"))\n",
    "    \n",
    "    multi.tracks[0].plot()\n",
    "    #fig.set_size_inches(100,100)\n",
    "    #plt.show()\n",
    "    plt.savefig(os.path.join(RUN_FOLDER, \"images/\"+str(epoch)+\"_pianoroll.png\"), format='png')\n",
    "    plt.close()"
   ]
  },
  {
   "cell_type": "code",
   "execution_count": 15,
   "metadata": {},
   "outputs": [],
   "source": [
    "def train_normal(epochs, batch_size=128):\n",
    "    # Save the Generator and discriminator models\n",
    "    #save_model(generator, os.path.join(RUN_FOLDER, 'images/generator'))\n",
    "    #save_model(discriminator, os.path.join(RUN_FOLDER, 'images/discriminator'))\n",
    "    #save_model(GANModel, os.path.join(RUN_FOLDER, r\"images/GANModel\"))\n",
    "    # Adversarial ground truths\n",
    "    valid = np.ones((batch_size, 1))\n",
    "    fake = np.zeros((batch_size, 1))\n",
    "    # Label Smoothening\n",
    "    valid_smoothened = np.random.uniform(low=0.8, high=1.0, size=(batch_size,1))\n",
    "    fake_smoothened = np.random.uniform(low=0.0, high=0.05, size=(batch_size,1))\n",
    "    \n",
    "    for epoch in range(epochs):\n",
    "\n",
    "        # ---------------------\n",
    "        #  Train Discriminator\n",
    "        # ---------------------      \n",
    "        noise = np.random.normal(0, 1, (batch_size, z_dim))\n",
    "        gen_imgs = generator.predict(noise)\n",
    "        # Select a random half of images\n",
    "        idx = np.random.randint(0, reshaped.shape[0], batch_size)\n",
    "        imgs = reshaped[idx]\n",
    "        \n",
    "        # ---------------------\n",
    "        #  Train the discriminator (real classified as ones and generated as zeros)\n",
    "        # ---------------------\n",
    "        d_loss_real, d_acc_real =  discriminator.train_on_batch(imgs, valid)\n",
    "        d_loss_fake, d_acc_fake =  discriminator.train_on_batch(gen_imgs, fake)\n",
    "        d_loss =  0.5 * (d_loss_real + d_loss_fake)\n",
    "        d_acc = 0.5 * (d_acc_real + d_acc_fake)\n",
    "\n",
    "        # ---------------------\n",
    "        #  Train Generator\n",
    "        # ---------------------\n",
    "        g_loss = GANModel.train_on_batch(noise, valid)\n",
    "        #print (\"%d [G loss: %.3f] [G acc: %.3f]\" % (epoch, g_loss[0], g_loss[1]))\n",
    "        \n",
    "        # ---------------------\n",
    "        #  Save Losses for evaluation\n",
    "        # ---------------------\n",
    "        d = [d_loss, d_loss_real, d_loss_fake, d_acc, d_acc_real, d_acc_fake]\n",
    "        d_losses.append(d)\n",
    "        g = [g_loss[0], g_loss[1]]\n",
    "        g_losses.append(g)\n",
    "        \n",
    "        \n",
    "        if (epoch % 100 == 0): \n",
    "            # Save an example\n",
    "            fig=plt.figure(figsize=(64, 64))\n",
    "            plt.imshow(gen_imgs[0, :, :, 0], cmap='gray')\n",
    "            plt.axis('off')\n",
    "            plt.savefig(os.path.join(RUN_FOLDER, \"images/\"+str(epoch)+\".png\"), format='png')\n",
    "            generate_Midi_File(gen_imgs[0, :, :, 0], epoch, isNormalized)\n",
    "            plt.close()\n",
    "            \n",
    "            # Continuiously save a plot with the new values to see the development of the loss\n",
    "            fig = plt.figure()\n",
    "            plt.plot([x[0] for x in d_losses], color='black', linewidth=0.25)\n",
    "            plt.plot([x[1] for x in d_losses], color='green', linewidth=0.25)\n",
    "            plt.plot([x[2] for x in d_losses], color='red', linewidth=0.25)\n",
    "            plt.plot([x[0] for x in g_losses], color='orange', linewidth=0.25)\n",
    "\n",
    "            plt.xlabel('batch', fontsize=18)\n",
    "            plt.ylabel('loss', fontsize=16)\n",
    "\n",
    "            # plt.xlim(0, 2000)\n",
    "            #plt.ylim(0, 50)\n",
    "\n",
    "            plt.savefig(os.path.join(RUN_FOLDER, \"images/loss_chart.png\"), format='png')\n",
    "            plt.show()\n",
    "            plt.close\n",
    "            # Save the loss arrays\n",
    "            np.save(os.path.join(RUN_FOLDER, \"images/D_loss.npy\"), d_losses)\n",
    "            np.save(os.path.join(RUN_FOLDER, \"images/G_loss.npy\"), g_losses)\n",
    "            \n",
    "            if (epoch % 1000 == 0):\n",
    "                GANModel.save(os.path.join(RUN_FOLDER, 'images/GANModel_'+str(epoch)+'_loss_'+str(g_loss[0])+'.h5'))\n",
    "                discriminator.save(os.path.join(RUN_FOLDER, 'images/discriminator_'+str(epoch)+'_loss_'+str(d_loss)+'.h5'))\n",
    "                generator.save(os.path.join(RUN_FOLDER, 'images/generator_'+str(epoch)+'_loss_'+str(g_loss[0])+'.h5'))\n",
    "                \n",
    "                \n",
    "        # Plot the progress\n",
    "        if (epoch % 10 == 0):\n",
    "            print (\"%d [D loss: (%.3f)(R %.3f, F %.3f)] [D acc: (%.3f)(%.3f, %.3f)] [G loss: %.3f] [G acc: %.3f]\" % (epoch, d_loss, d_loss_real, d_loss_fake, d_acc, d_acc_real, d_acc_fake, g_loss[0], g_loss[1]))"
   ]
  },
  {
   "cell_type": "code",
   "execution_count": null,
   "metadata": {},
   "outputs": [
    {
     "data": {
      "image/png": "[encoded data removed]",
      "text/plain": [
       "<Figure size 432x288 with 1 Axes>"
      ]
     },
     "metadata": {
      "needs_background": "light"
     },
     "output_type": "display_data"
    },
    {
     "name": "stdout",
     "output_type": "stream",
     "text": [
      "0 [D loss: (3.835)(R 0.620, F 7.050)] [D acc: (0.312)(0.625, 0.000)] [G loss: 0.423] [G acc: 1.000]\n",
      "10 [D loss: (0.303)(R 0.001, F 0.606)] [D acc: (1.000)(1.000, 1.000)] [G loss: 0.850] [G acc: 0.000]\n",
      "20 [D loss: (0.033)(R 0.002, F 0.064)] [D acc: (1.000)(1.000, 1.000)] [G loss: 3.111] [G acc: 0.000]\n",
      "30 [D loss: (0.003)(R 0.000, F 0.006)] [D acc: (1.000)(1.000, 1.000)] [G loss: 3.741] [G acc: 0.000]\n",
      "40 [D loss: (0.000)(R 0.000, F 0.000)] [D acc: (1.000)(1.000, 1.000)] [G loss: 8.124] [G acc: 0.000]\n",
      "50 [D loss: (0.000)(R 0.000, F 0.000)] [D acc: (1.000)(1.000, 1.000)] [G loss: 9.098] [G acc: 0.000]\n",
      "60 [D loss: (0.000)(R 0.000, F 0.000)] [D acc: (1.000)(1.000, 1.000)] [G loss: 10.932] [G acc: 0.000]\n",
      "70 [D loss: (0.000)(R 0.000, F 0.000)] [D acc: (1.000)(1.000, 1.000)] [G loss: 10.703] [G acc: 0.000]\n",
      "80 [D loss: (0.000)(R 0.000, F 0.000)] [D acc: (1.000)(1.000, 1.000)] [G loss: 12.510] [G acc: 0.000]\n",
      "90 [D loss: (0.000)(R 0.000, F 0.000)] [D acc: (1.000)(1.000, 1.000)] [G loss: 13.929] [G acc: 0.000]\n"
     ]
    },
    {
     "data": {
      "image/png": "[encoded data removed]",
      "text/plain": [
       "<Figure size 432x288 with 1 Axes>"
      ]
     },
     "metadata": {
      "needs_background": "light"
     },
     "output_type": "display_data"
    },
    {
     "name": "stdout",
     "output_type": "stream",
     "text": [
      "100 [D loss: (0.000)(R 0.000, F 0.000)] [D acc: (1.000)(1.000, 1.000)] [G loss: 15.115] [G acc: 0.000]\n",
      "110 [D loss: (0.000)(R 0.000, F 0.000)] [D acc: (1.000)(1.000, 1.000)] [G loss: 16.156] [G acc: 0.000]\n",
      "120 [D loss: (0.000)(R 0.000, F 0.000)] [D acc: (1.000)(1.000, 1.000)] [G loss: 17.008] [G acc: 0.000]\n",
      "130 [D loss: (0.000)(R 0.000, F 0.000)] [D acc: (1.000)(1.000, 1.000)] [G loss: 18.146] [G acc: 0.000]\n",
      "140 [D loss: (0.000)(R 0.000, F 0.000)] [D acc: (1.000)(1.000, 1.000)] [G loss: 19.151] [G acc: 0.000]\n",
      "150 [D loss: (0.000)(R 0.000, F 0.000)] [D acc: (1.000)(1.000, 1.000)] [G loss: 19.936] [G acc: 0.000]\n",
      "160 [D loss: (0.000)(R 0.000, F 0.000)] [D acc: (1.000)(1.000, 1.000)] [G loss: 20.579] [G acc: 0.000]\n",
      "170 [D loss: (0.000)(R 0.000, F 0.000)] [D acc: (1.000)(1.000, 1.000)] [G loss: 21.100] [G acc: 0.000]\n",
      "180 [D loss: (0.000)(R 0.000, F 0.000)] [D acc: (1.000)(1.000, 1.000)] [G loss: 21.080] [G acc: 0.000]\n",
      "190 [D loss: (0.000)(R 0.000, F 0.000)] [D acc: (1.000)(1.000, 1.000)] [G loss: 21.573] [G acc: 0.000]\n"
     ]
    },
    {
     "data": {
      "image/png": "[encoded data removed]",
      "text/plain": [
       "<Figure size 432x288 with 1 Axes>"
      ]
     },
     "metadata": {
      "needs_background": "light"
     },
     "output_type": "display_data"
    },
    {
     "name": "stdout",
     "output_type": "stream",
     "text": [
      "200 [D loss: (0.000)(R 0.000, F 0.000)] [D acc: (1.000)(1.000, 1.000)] [G loss: 21.849] [G acc: 0.000]\n",
      "210 [D loss: (0.000)(R 0.000, F 0.000)] [D acc: (1.000)(1.000, 1.000)] [G loss: 22.121] [G acc: 0.000]\n",
      "220 [D loss: (0.000)(R 0.000, F 0.000)] [D acc: (1.000)(1.000, 1.000)] [G loss: 22.294] [G acc: 0.000]\n",
      "230 [D loss: (0.000)(R 0.000, F 0.000)] [D acc: (1.000)(1.000, 1.000)] [G loss: 22.426] [G acc: 0.000]\n",
      "240 [D loss: (0.000)(R 0.000, F 0.000)] [D acc: (1.000)(1.000, 1.000)] [G loss: 21.914] [G acc: 0.000]\n",
      "250 [D loss: (0.000)(R 0.000, F 0.000)] [D acc: (1.000)(1.000, 1.000)] [G loss: 18.184] [G acc: 0.000]\n",
      "260 [D loss: (0.000)(R 0.000, F 0.000)] [D acc: (1.000)(1.000, 1.000)] [G loss: 15.073] [G acc: 0.000]\n",
      "270 [D loss: (0.000)(R 0.000, F 0.000)] [D acc: (1.000)(1.000, 1.000)] [G loss: 14.672] [G acc: 0.000]\n",
      "280 [D loss: (0.000)(R 0.000, F 0.000)] [D acc: (1.000)(1.000, 1.000)] [G loss: 13.669] [G acc: 0.000]\n",
      "290 [D loss: (0.000)(R 0.000, F 0.000)] [D acc: (1.000)(1.000, 1.000)] [G loss: 39.781] [G acc: 0.000]\n"
     ]
    },
    {
     "data": {
      "image/png": "[encoded data removed]",
      "text/plain": [
       "<Figure size 432x288 with 1 Axes>"
      ]
     },
     "metadata": {
      "needs_background": "light"
     },
     "output_type": "display_data"
    },
    {
     "name": "stdout",
     "output_type": "stream",
     "text": [
      "300 [D loss: (0.000)(R 0.000, F 0.000)] [D acc: (1.000)(1.000, 1.000)] [G loss: 17.247] [G acc: 0.000]\n",
      "310 [D loss: (0.000)(R 0.000, F 0.000)] [D acc: (1.000)(1.000, 1.000)] [G loss: 17.861] [G acc: 0.000]\n",
      "320 [D loss: (0.000)(R 0.000, F 0.000)] [D acc: (1.000)(1.000, 1.000)] [G loss: 19.128] [G acc: 0.000]\n",
      "330 [D loss: (0.000)(R 0.000, F 0.000)] [D acc: (1.000)(1.000, 1.000)] [G loss: 19.967] [G acc: 0.000]\n",
      "340 [D loss: (0.000)(R 0.000, F 0.000)] [D acc: (1.000)(1.000, 1.000)] [G loss: 20.819] [G acc: 0.000]\n",
      "350 [D loss: (0.000)(R 0.000, F 0.000)] [D acc: (1.000)(1.000, 1.000)] [G loss: 53.827] [G acc: 0.000]\n",
      "360 [D loss: (0.000)(R 0.000, F 0.000)] [D acc: (1.000)(1.000, 1.000)] [G loss: 50.460] [G acc: 0.000]\n",
      "370 [D loss: (0.000)(R 0.000, F 0.000)] [D acc: (1.000)(1.000, 1.000)] [G loss: 50.366] [G acc: 0.000]\n",
      "380 [D loss: (0.000)(R 0.000, F 0.000)] [D acc: (1.000)(1.000, 1.000)] [G loss: 50.411] [G acc: 0.000]\n",
      "390 [D loss: (0.000)(R 0.000, F 0.000)] [D acc: (1.000)(1.000, 1.000)] [G loss: 50.302] [G acc: 0.000]\n"
     ]
    },
    {
     "data": {
      "image/png": "[encoded data removed]",
      "text/plain": [
       "<Figure size 432x288 with 1 Axes>"
      ]
     },
     "metadata": {
      "needs_background": "light"
     },
     "output_type": "display_data"
    },
    {
     "name": "stdout",
     "output_type": "stream",
     "text": [
      "400 [D loss: (0.000)(R 0.000, F 0.000)] [D acc: (1.000)(1.000, 1.000)] [G loss: 50.391] [G acc: 0.000]\n",
      "410 [D loss: (0.000)(R 0.000, F 0.000)] [D acc: (1.000)(1.000, 1.000)] [G loss: 50.355] [G acc: 0.000]\n",
      "420 [D loss: (0.000)(R 0.000, F 0.000)] [D acc: (1.000)(1.000, 1.000)] [G loss: 50.287] [G acc: 0.000]\n",
      "430 [D loss: (0.000)(R 0.000, F 0.000)] [D acc: (1.000)(1.000, 1.000)] [G loss: 50.378] [G acc: 0.000]\n",
      "440 [D loss: (0.000)(R 0.000, F 0.000)] [D acc: (1.000)(1.000, 1.000)] [G loss: 50.288] [G acc: 0.000]\n",
      "450 [D loss: (0.000)(R 0.000, F 0.000)] [D acc: (1.000)(1.000, 1.000)] [G loss: 50.301] [G acc: 0.000]\n",
      "460 [D loss: (0.000)(R 0.000, F 0.000)] [D acc: (1.000)(1.000, 1.000)] [G loss: 50.332] [G acc: 0.000]\n",
      "470 [D loss: (0.000)(R 0.000, F 0.000)] [D acc: (1.000)(1.000, 1.000)] [G loss: 50.294] [G acc: 0.000]\n",
      "480 [D loss: (0.000)(R 0.000, F 0.000)] [D acc: (1.000)(1.000, 1.000)] [G loss: 50.282] [G acc: 0.000]\n",
      "490 [D loss: (0.000)(R 0.000, F 0.000)] [D acc: (1.000)(1.000, 1.000)] [G loss: 50.421] [G acc: 0.000]\n"
     ]
    },
    {
     "data": {
      "image/png": "[encoded data removed]",
      "text/plain": [
       "<Figure size 432x288 with 1 Axes>"
      ]
     },
     "metadata": {
      "needs_background": "light"
     },
     "output_type": "display_data"
    },
    {
     "name": "stdout",
     "output_type": "stream",
     "text": [
      "500 [D loss: (0.000)(R 0.000, F 0.000)] [D acc: (1.000)(1.000, 1.000)] [G loss: 50.322] [G acc: 0.000]\n",
      "510 [D loss: (0.000)(R 0.000, F 0.000)] [D acc: (1.000)(1.000, 1.000)] [G loss: 50.377] [G acc: 0.000]\n",
      "520 [D loss: (0.000)(R 0.000, F 0.000)] [D acc: (1.000)(1.000, 1.000)] [G loss: 50.387] [G acc: 0.000]\n",
      "530 [D loss: (0.000)(R 0.000, F 0.000)] [D acc: (1.000)(1.000, 1.000)] [G loss: 50.265] [G acc: 0.000]\n",
      "540 [D loss: (0.000)(R 0.000, F 0.000)] [D acc: (1.000)(1.000, 1.000)] [G loss: 50.339] [G acc: 0.000]\n",
      "550 [D loss: (0.000)(R 0.000, F 0.000)] [D acc: (1.000)(1.000, 1.000)] [G loss: 50.226] [G acc: 0.000]\n",
      "560 [D loss: (0.000)(R 0.000, F 0.000)] [D acc: (1.000)(1.000, 1.000)] [G loss: 50.439] [G acc: 0.000]\n",
      "570 [D loss: (0.000)(R 0.000, F 0.000)] [D acc: (1.000)(1.000, 1.000)] [G loss: 50.273] [G acc: 0.000]\n",
      "580 [D loss: (0.000)(R 0.000, F 0.000)] [D acc: (1.000)(1.000, 1.000)] [G loss: 50.316] [G acc: 0.000]\n",
      "590 [D loss: (0.000)(R 0.000, F 0.000)] [D acc: (1.000)(1.000, 1.000)] [G loss: 50.359] [G acc: 0.000]\n"
     ]
    },
    {
     "data": {
      "image/png": "[encoded data removed]",
      "text/plain": [
       "<Figure size 432x288 with 1 Axes>"
      ]
     },
     "metadata": {
      "needs_background": "light"
     },
     "output_type": "display_data"
    },
    {
     "name": "stdout",
     "output_type": "stream",
     "text": [
      "600 [D loss: (0.000)(R 0.000, F 0.000)] [D acc: (1.000)(1.000, 1.000)] [G loss: 49.710] [G acc: 0.000]\n",
      "610 [D loss: (0.000)(R 0.000, F 0.000)] [D acc: (1.000)(1.000, 1.000)] [G loss: 49.636] [G acc: 0.000]\n",
      "620 [D loss: (0.000)(R 0.000, F 0.000)] [D acc: (1.000)(1.000, 1.000)] [G loss: 49.685] [G acc: 0.000]\n",
      "630 [D loss: (0.000)(R 0.000, F 0.000)] [D acc: (1.000)(1.000, 1.000)] [G loss: 49.728] [G acc: 0.000]\n",
      "640 [D loss: (0.000)(R 0.000, F 0.000)] [D acc: (1.000)(1.000, 1.000)] [G loss: 49.708] [G acc: 0.000]\n",
      "650 [D loss: (0.000)(R 0.000, F 0.000)] [D acc: (1.000)(1.000, 1.000)] [G loss: 49.704] [G acc: 0.000]\n",
      "660 [D loss: (0.000)(R 0.000, F 0.000)] [D acc: (1.000)(1.000, 1.000)] [G loss: 49.640] [G acc: 0.000]\n",
      "670 [D loss: (0.000)(R 0.000, F 0.000)] [D acc: (1.000)(1.000, 1.000)] [G loss: 49.617] [G acc: 0.000]\n",
      "680 [D loss: (0.000)(R 0.000, F 0.000)] [D acc: (1.000)(1.000, 1.000)] [G loss: 49.664] [G acc: 0.000]\n",
      "690 [D loss: (0.000)(R 0.000, F 0.000)] [D acc: (1.000)(1.000, 1.000)] [G loss: 49.698] [G acc: 0.000]\n"
     ]
    }
   ],
   "source": [
    "d_losses = []\n",
    "g_losses = []\n",
    "\n",
    "train_normal(10001, batch_size=32)"
   ]
  },
  {
   "cell_type": "code",
   "execution_count": 7,
   "metadata": {},
   "outputs": [
    {
     "data": {
      "image/png": "[encoded data removed]",
      "text/plain": [
       "<Figure size 432x288 with 1 Axes>"
      ]
     },
     "metadata": {
      "needs_background": "light"
     },
     "output_type": "display_data"
    },
    {
     "data": {
      "text/plain": [
       "<function matplotlib.pyplot.close(fig=None)>"
      ]
     },
     "execution_count": 7,
     "metadata": {},
     "output_type": "execute_result"
    }
   ],
   "source": [
    "fig = plt.figure()\n",
    "plt.plot([x[1] for x in d_losses], color='green', linewidth=0.25)\n",
    "plt.plot([x[2] for x in d_losses], color='red', linewidth=0.25)\n",
    "plt.plot([x[0] for x in d_losses], color='black', linewidth=0.25)\n",
    "plt.plot([x[0] for x in g_losses], color='orange', linewidth=0.25)\n",
    "\n",
    "plt.xlabel('batch', fontsize=18)\n",
    "plt.ylabel('loss', fontsize=16)\n",
    "\n",
    "#plt.xlim(0, 10000)\n",
    "plt.ylim(0, 20)\n",
    "\n",
    "plt.savefig(os.path.join(RUN_FOLDER, \"images/loss_chart4.png\"), format='png')\n",
    "plt.show()\n",
    "plt.close"
   ]
  },
  {
   "cell_type": "code",
   "execution_count": null,
   "metadata": {},
   "outputs": [],
   "source": [
    "# Quelle: https://stackoverflow.com/a/6537563\n",
    "# Beep to tell training finished\n",
    "import winsound\n",
    "frequency = 300  # Set Frequency To 2500 Hertz\n",
    "duration = 1000  # Set Duration To 1000 ms == 1 second\n",
    "winsound.Beep(frequency, duration)"
   ]
  },
  {
   "cell_type": "code",
   "execution_count": 5,
   "metadata": {},
   "outputs": [],
   "source": [
    "d_losses = np.load(os.path.join(RUN_FOLDER, \"D_loss.npy\"))\n",
    "g_losses = np.load(os.path.join(RUN_FOLDER, \"G_loss.npy\"))"
   ]
  },
  {
   "cell_type": "code",
   "execution_count": null,
   "metadata": {},
   "outputs": [],
   "source": [
    "#generator = load_model(os.path.join(RUN_FOLDER, \"images/First_run/generator_10000_loss_30.628813.h5\"))\n",
    "#discriminator = load_model(os.path.join(RUN_FOLDER, \"images/First_run/discriminator_10000_loss_5.734544512425027e-14.h5\"))\n",
    "#GANModel = load_model(os.path.join(RUN_FOLDER, \"images/First_run/GANModel_10000_loss_30.628813.h5\"))\n"
   ]
  },
  {
   "cell_type": "code",
   "execution_count": null,
   "metadata": {},
   "outputs": [],
   "source": [
    "#generator.summary()"
   ]
  },
  {
   "cell_type": "code",
   "execution_count": null,
   "metadata": {},
   "outputs": [],
   "source": []
  },
  {
   "cell_type": "code",
   "execution_count": null,
   "metadata": {},
   "outputs": [],
   "source": []
  }
 ],
 "metadata": {
  "kernelspec": {
   "display_name": "Python 3",
   "language": "python",
   "name": "python3"
  },
  "language_info": {
   "codemirror_mode": {
    "name": "ipython",
    "version": 3
   },
   "file_extension": ".py",
   "mimetype": "text/x-python",
   "name": "python",
   "nbconvert_exporter": "python",
   "pygments_lexer": "ipython3",
   "version": "3.7.6"
  }
 },
 "nbformat": 4,
 "nbformat_minor": 4
}

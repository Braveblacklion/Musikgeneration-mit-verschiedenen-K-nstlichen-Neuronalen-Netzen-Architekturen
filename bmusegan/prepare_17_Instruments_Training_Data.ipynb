{
 "cells": [
  {
   "cell_type": "code",
   "execution_count": 1,
   "metadata": {},
   "outputs": [],
   "source": [
    "import numpy as np\n",
    "from pypianoroll import *\n",
    "from matplotlib import pyplot as plt\n",
    "import os\n",
    "import sys\n",
    "import time\n",
    "import tensorflow as tf"
   ]
  },
  {
   "cell_type": "code",
   "execution_count": 2,
   "metadata": {},
   "outputs": [],
   "source": [
    "# iteriere durch alle Ordner \n",
    "# Code basiert auf https://www.tutorialspoint.com/python/os_walk.htm \n",
    "# 21,425 Lieder; für training nur 500 bis 2000 nötig. sonst zu wenig wiederholungen beim training! \n",
    "def Crawler(path, Durchlauf):\n",
    "    Song_Array = []\n",
    "    skip = 0\n",
    "    for root, dirs, files in os.walk(path):\n",
    "        if len(Song_Array) >= 100:\n",
    "            break\n",
    "        for name in files:\n",
    "            multitrack = Multitrack(os.path.join(root, name)) \n",
    "            multitrack.binarize()\n",
    "            for i in range(17):\n",
    "                if len(multitrack.tracks[i].pianoroll) > 2280:\n",
    "                    skip += 1\n",
    "                    if skip > (Durchlauf*100):\n",
    "                        Song_Array.append(multitrack)\n",
    "                    break\n",
    "\n",
    "            # print(os.path.join(root, name))\n",
    "        \n",
    "    return Song_Array"
   ]
  },
  {
   "cell_type": "code",
   "execution_count": 3,
   "metadata": {},
   "outputs": [],
   "source": [
    "def Training_Data_Adaption(SongArray, save):\n",
    "    # TrainDataArray[len(SongArray)][6][4][96][84][17]\n",
    "    TrainDataArray = []\n",
    "    for s in range(len(SongArray)):                   # Liedazahl\n",
    "        Schnitt = []\n",
    "        for l in range(6):                     # Liedausschnitte\n",
    "            Tackt = []\n",
    "            for t in range(4):                   # Tackte\n",
    "                Schritt = []\n",
    "                for z in range(96):            # Zeitschritte\n",
    "                    pitch = []\n",
    "                    for p in range(84):          # pitch_nr\n",
    "                        instrument = []\n",
    "                        for i in range(17):          # Instrumente\n",
    "                            if len(SongArray[s].tracks[i].pianoroll) != 0:\n",
    "                                instrument.append(SongArray[s].tracks[i].pianoroll[(z + 96*t + 96*4*l)][(p+24)]) # append true/falsus\n",
    "                            else :\n",
    "                                instrument.append(False) # append true/false\n",
    "                        pitch.append(instrument)\n",
    "                    Schritt.append(pitch)\n",
    "                Tackt.append(Schritt)\n",
    "            Schnitt.append(Tackt)\n",
    "        TrainDataArray.append(Schnitt)\n",
    "        SongArray[s] = None\n",
    "    # save TrainArray        \n",
    "    np.save(save, TrainDataArray, allow_pickle=True)\n",
    "    SongArray = []"
   ]
  },
  {
   "cell_type": "code",
   "execution_count": 4,
   "metadata": {},
   "outputs": [],
   "source": [
    "#iteriere durch trainingsdaten und verbinde zu einem größeren Datensatz\n",
    "def combine_Data(Durchlaeufe):\n",
    "    Final = []\n",
    "    tmp = []\n",
    "    for Durchlauf in range(Durchlaeufe): \n",
    "        loadFile = os.path.join(\".\", \"training_data\", \"lpd_17_{}_cleansed.npy\".format(Durchlauf))\n",
    "        tmp = np.load(loadFile, allow_pickle=True)\n",
    "        Final.extend(tmp)\n",
    "    save = os.path.join(\".\", \"training_data\", \"lpd_17_Final_{}_cleansed.npy\".format((Durchlaeufe*100)))\n",
    "    np.save(save, Final, allow_pickle=True)\n",
    "        "
   ]
  },
  {
   "cell_type": "code",
   "execution_count": 5,
   "metadata": {},
   "outputs": [],
   "source": [
    "#starte alles\n",
    "def main(Durchlaeufe):\n",
    "    #start-pfad\n",
    "    file = os.path.join(\".\", \"training_data\", \"lpd_17_cleansed\")\n",
    "    for Durchlauf in range(Durchlaeufe):\n",
    "        save = os.path.join(\".\", \"training_data\", \"lpd_17_{}_cleansed.npy\".format(Durchlauf))\n",
    "        #start crawler\n",
    "        Array = []\n",
    "        Array = Crawler(file, Durchlauf)\n",
    "        # start Train Data transformation and save\n",
    "        Training_Data_Adaption(Array, save)\n",
    "    combine_Data(Durchlaeufe)"
   ]
  },
  {
   "cell_type": "code",
   "execution_count": 6,
   "metadata": {},
   "outputs": [],
   "source": [
    "# start to prepare training Data\n",
    "Durchlaeufe = 5 #x100 lieder in den Trainingsdatensatz (datensatz besteht aus >20k Lieder, alle kürzeren werden übersprungen)\n",
    "main(Durchlaeufe)"
   ]
  },
  {
   "cell_type": "code",
   "execution_count": null,
   "metadata": {},
   "outputs": [],
   "source": []
  },
  {
   "cell_type": "code",
   "execution_count": null,
   "metadata": {},
   "outputs": [],
   "source": []
  }
 ],
 "metadata": {
  "kernelspec": {
   "display_name": "Python 3",
   "language": "python",
   "name": "python3"
  },
  "language_info": {
   "codemirror_mode": {
    "name": "ipython",
    "version": 3
   },
   "file_extension": ".py",
   "mimetype": "text/x-python",
   "name": "python",
   "nbconvert_exporter": "python",
   "pygments_lexer": "ipython3",
   "version": "3.6.9"
  }
 },
 "nbformat": 4,
 "nbformat_minor": 4
}

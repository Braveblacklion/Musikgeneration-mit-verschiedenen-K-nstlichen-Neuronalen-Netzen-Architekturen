{
 "cells": [
  {
   "cell_type": "code",
   "execution_count": null,
   "metadata": {},
   "outputs": [],
   "source": [
    "import pickle as pkl\n",
    "import time\n",
    "import os\n",
    "import numpy as np\n",
    "import sys\n",
    "import mido\n",
    "from mido import MidiFile ,MetaMessage, Message, MidiTrack, second2tick\n",
    "from models.LSTM_Minimized import create_network, sample_with_temp\n",
    "\n",
    "import matplotlib.pyplot as plt\n"
   ]
  },
  {
   "cell_type": "markdown",
   "metadata": {},
   "source": [
    "# parameters"
   ]
  },
  {
   "cell_type": "code",
   "execution_count": null,
   "metadata": {},
   "outputs": [],
   "source": [
    "# run params\n",
    "section = 'compose'\n",
    "run_id = '1122'\n",
    "music_name = 'midis'\n",
    "run_folder = 'run/{}/'.format(section)\n",
    "run_folder += '_'.join([run_id, music_name])\n",
    "\n",
    "# model params\n",
    "embed_size = 200\n",
    "rnn_units = 256\n",
    "use_attention = True\n"
   ]
  },
  {
   "cell_type": "markdown",
   "metadata": {},
   "source": [
    "## load the lookup tables"
   ]
  },
  {
   "cell_type": "code",
   "execution_count": null,
   "metadata": {},
   "outputs": [],
   "source": [
    "\n",
    "store_folder = os.path.join(run_folder, 'store')\n",
    "\n",
    "with open(os.path.join(store_folder, 'distincts'), 'rb') as filepath:\n",
    "    distincts = pkl.load(filepath)\n",
    "    command_channel_names, n_command_channel, value1_names, n_value1, duration_names, n_durations = distincts\n",
    "\n",
    "with open(os.path.join(store_folder, 'lookups'), 'rb') as filepath:\n",
    "    lookups = pkl.load(filepath)\n",
    "    command_channel_to_int, int_to_command_channel, value1_to_int, int_to_value1, duration_to_int, int_to_duration = lookups"
   ]
  },
  {
   "cell_type": "markdown",
   "metadata": {},
   "source": [
    "## build the model"
   ]
  },
  {
   "cell_type": "code",
   "execution_count": null,
   "metadata": {},
   "outputs": [],
   "source": [
    "weights_folder = os.path.join(run_folder, 'weights')\n",
    "#weights_file = 'weights_custom.h5'\n",
    "weights_file = 'weights_finished.h5'\n",
    "\n",
    "model, att_model = create_network(n_command_channel, n_value1, n_durations, embed_size, rnn_units, use_attention)\n",
    "\n",
    "# Load the weights to each node\n",
    "weight_source = os.path.join(weights_folder,weights_file)\n",
    "model.load_weights(weight_source)\n",
    "model.summary()"
   ]
  },
  {
   "cell_type": "markdown",
   "metadata": {},
   "source": [
    "## build your own phrase"
   ]
  },
  {
   "cell_type": "code",
   "execution_count": null,
   "metadata": {},
   "outputs": [],
   "source": [
    "# prediction params\n",
    "commands_temp = 0.5\n",
    "values1_temp = 0.5\n",
    "duration_temp = 0.5\n",
    "\n",
    "max_extra_commands = 50\n",
    "max_seq_len = 128\n",
    "seq_len = 64\n",
    "\n",
    "# notes = ['START', 'D3', 'D3', 'E3', 'D3', 'G3', 'F#3','D3', 'D3', 'E3', 'D3', 'G3', 'F#3','D3', 'D3', 'E3', 'D3', 'G3', 'F#3','D3', 'D3', 'E3', 'D3', 'G3', 'F#3']\n",
    "# durations = [0, 0.75, 0.25, 1, 1, 1, 2, 0.75, 0.25, 1, 1, 1, 2, 0.75, 0.25, 1, 1, 1, 2, 0.75, 0.25, 1, 1, 1, 2]\n",
    "\n",
    "\n",
    "# notes = ['START', 'F#3', 'G#3', 'F#3', 'E3', 'F#3', 'G#3', 'F#3', 'E3', 'F#3', 'G#3', 'F#3', 'E3','F#3', 'G#3', 'F#3', 'E3', 'F#3', 'G#3', 'F#3', 'E3', 'F#3', 'G#3', 'F#3', 'E3']\n",
    "# durations = [0, 0.75, 0.25, 1, 1, 1, 2, 0.75, 0.25, 1, 1, 1, 2, 0.75, 0.25, 1, 1, 1, 2, 0.75, 0.25, 1, 1, 1, 2]\n",
    "\n",
    "command_channel = ['START']\n",
    "values1 = [-1]\n",
    "durations = [0]\n",
    "\n",
    "#if seq_len is not None:\n",
    "#    notes = ['START'] * (seq_len - len(notes)) + notes\n",
    "#    durations = [0] * (seq_len - len(durations)) + durations\n",
    "\n",
    "sequence_length = 128"
   ]
  },
  {
   "cell_type": "markdown",
   "metadata": {},
   "source": [
    "## Generate notes from the neural network based on a sequence of notes"
   ]
  },
  {
   "cell_type": "code",
   "execution_count": null,
   "metadata": {},
   "outputs": [],
   "source": [
    "#xy = \"note_on.1\"\n",
    "#command, channel = xy.split(\".\")\n",
    "#print(command)\n",
    "#print(channel)"
   ]
  },
  {
   "cell_type": "code",
   "execution_count": null,
   "metadata": {},
   "outputs": [],
   "source": [
    "def generateMidoMessage(command_channel, channel, value1, duration):\n",
    "    command, channel = command_channel.split('.')\n",
    "    if command != 'time_signature' and command != 'key_signature':\n",
    "        value1 = int(value1)\n",
    "        value2 = int(64)\n",
    "        \n",
    "    duration = int(duration)\n",
    "    pChannel = int(channel)\n",
    "    \n",
    "    if command == 'set_tempo':\n",
    "        return MetaMessage(command, tempo=value1, time=duration)\n",
    "    elif command == 'key_signature':    \n",
    "        return MetaMessage(command, key=value1, time=duration)\n",
    "    elif command == 'end_of_track':\n",
    "        return MetaMessage(command, time=duration)\n",
    "    elif command == 'note_on' or command == 'note_off':\n",
    "        return Message(command, channel=pChannel, note=value1, velocity=value2, time=duration)\n",
    "    elif command == 'control_change':\n",
    "        return Message(command, channel=pChannel, control=value1,  value=value2, time=duration)\n",
    "    elif command == 'program_change':\n",
    "        return Message(command, channel=pChannel, program=value1, time=duration)\n",
    "    elif command == 'pitchwheel':\n",
    "        return Message(command, channel=pChannel, pitch=value1, time=duration)"
   ]
  },
  {
   "cell_type": "code",
   "execution_count": null,
   "metadata": {},
   "outputs": [],
   "source": [
    "from keras.backend.tensorflow_backend import set_session\n",
    "import tensorflow as tf\n",
    "\n",
    "prediction_output = []\n",
    "\n",
    "commands_input_sequence = []\n",
    "value1_input_sequence = []\n",
    "durations_input_sequence = []\n",
    "\n",
    "overall_preds = []\n",
    "\n",
    "for co, v1, d in zip(command_channel, values1, durations):\n",
    "    command_int = command_channel_to_int[co]\n",
    "    value1_int = value1_to_int[str(v1)]\n",
    "    duration_int = duration_to_int[d]\n",
    "    \n",
    "    commands_input_sequence.append(command_int)\n",
    "    value1_input_sequence.append(value1_int)\n",
    "    durations_input_sequence.append(duration_int)\n",
    "    \n",
    "    prediction_output.append([co, v1, d])\n",
    "    \n",
    "    if co == 'START':\n",
    "        createdMidi = MidiFile()\n",
    "        track = MidiTrack()\n",
    "        createdMidi.tracks.append(track)\n",
    "    else:\n",
    "        midi_note = note.Note(n)\n",
    "\n",
    "        new_note = np.zeros(128)\n",
    "        new_note[midi_note.pitch.midi] = 1\n",
    "        overall_preds.append(new_note)\n",
    "\n",
    "\n",
    "att_matrix = np.zeros(shape = (max_extra_commands+sequence_length, max_extra_commands))\n",
    "\n",
    "for command_index in range(max_extra_commands):\n",
    "\n",
    "    print(command_index)\n",
    "    prediction_input = [\n",
    "        np.asarray([commands_input_sequence])\n",
    "        , np.asarray([value1_input_sequence])\n",
    "        , np.asarray([durations_input_sequence])\n",
    "       ]\n",
    "    command_prediction, value1_prediction, durations_prediction = model.predict(prediction_input, verbose=0)\n",
    "    if use_attention:\n",
    "        att_prediction = att_model.predict(prediction_input, verbose=0)[0]\n",
    "        att_matrix[(command_index-len(att_prediction)+sequence_length):(command_index+sequence_length), command_index] = att_prediction\n",
    "            \n",
    "    i1 = sample_with_temp(command_prediction[0], commands_temp)\n",
    "    i3 = sample_with_temp(value1_prediction[0], values1_temp)\n",
    "    i5 = sample_with_temp(durations_prediction[0], duration_temp)    \n",
    "\n",
    "    command_result = int_to_command_channel[i1]\n",
    "    value1_result = int_to_value1[i3]\n",
    "    duration_result = int_to_duration[i5]\n",
    "    \n",
    "    print(command_result, value1_result, duration_result)\n",
    "    \n",
    "    prediction_output.append([command_result, value1_result, duration_result])\n",
    "\n",
    "    commands_input_sequence.append(i1)\n",
    "    value1_input_sequence.append(i3)\n",
    "    durations_input_sequence.append(i5)\n",
    "    \n",
    "    if len(commands_input_sequence) > max_seq_len:\n",
    "        commands_input_sequence = commands_input_sequence[1:]\n",
    "        value1_input_sequence = value1_input_sequence[1:]\n",
    "        durations_input_sequence = durations_input_sequence[1:]\n",
    "        \n",
    "    if command_result == 'START':\n",
    "        break\n",
    "        \n",
    "print('Generated sequence of {} notes'.format(len(prediction_output)))"
   ]
  },
  {
   "cell_type": "code",
   "execution_count": null,
   "metadata": {},
   "outputs": [],
   "source": [
    "prediction_output"
   ]
  },
  {
   "cell_type": "markdown",
   "metadata": {},
   "source": [
    "## convert the output from the prediction to notes and create a midi file from the notes "
   ]
  },
  {
   "cell_type": "code",
   "execution_count": null,
   "metadata": {},
   "outputs": [],
   "source": [
    "output_folder = os.path.join(run_folder, 'output')\n",
    "\n",
    "# create note and chord objects based on the values generated by the model\n",
    "print(prediction_output)\n",
    "for pattern in prediction_output:\n",
    "    command_pattern, channel_pattern, value1_pattern, duration_pattern = pattern\n",
    "    pTime = int(second2tick(duration_pattern, ticks_per_beat=default_ticks_per_second, tempo=default_tempo))\n",
    "    # pattern is a chord\n",
    "    if command_pattern == 'START':\n",
    "        print('START')\n",
    "        continue\n",
    "    elif command_pattern == 'program_change':\n",
    "        print('program_change')\n",
    "        track.append(Message(command_pattern, channel=channel_pattern, program=int(value1_pattern), time=pTime))\n",
    "        continue\n",
    "    elif command_pattern == 'note_on' or command_pattern == 'note_off':\n",
    "        print(command_pattern)\n",
    "        track.append(Message(command_pattern, channel=channel_pattern, note=int(value1_pattern), time=pTime))\n",
    "        continue\n",
    "\n",
    "timestr = time.strftime(\"%Y%m%d-%H%M%S\")\n",
    "createdMidi.save(os.path.join(output_folder, 'output-minloss-' + timestr + '.mid'))"
   ]
  }
 ],
 "metadata": {
  "kernelspec": {
   "display_name": "Python 3",
   "language": "python",
   "name": "python3"
  },
  "language_info": {
   "codemirror_mode": {
    "name": "ipython",
    "version": 3
   },
   "file_extension": ".py",
   "mimetype": "text/x-python",
   "name": "python",
   "nbconvert_exporter": "python",
   "pygments_lexer": "ipython3",
   "version": "3.7.6"
  }
 },
 "nbformat": 4,
 "nbformat_minor": 2
}
